{
 "cells": [
  {
   "cell_type": "markdown",
   "metadata": {},
   "source": [
    "# The Perceptron"
   ]
  },
  {
   "cell_type": "markdown",
   "metadata": {},
   "source": [
    "Let us start by importing some of the libraries we will need and set up our notebook session:"
   ]
  },
  {
   "cell_type": "code",
   "execution_count": 211,
   "metadata": {
    "collapsed": true
   },
   "outputs": [],
   "source": [
    "from __future__ import print_function\n",
    "from __future__ import division\n",
    "\n",
    "import math\n",
    "\n",
    "import numpy as np\n",
    "\n",
    "import matplotlib.pyplot as plt\n",
    "%matplotlib inline"
   ]
  },
  {
   "cell_type": "markdown",
   "metadata": {},
   "source": [
    "## A Basic Perceptron"
   ]
  },
  {
   "cell_type": "markdown",
   "metadata": {},
   "source": [
    "Here goes the blueprint of our perceptron, encoded as a plain Python class, as well as a single auxiliary function. Below we will walk through the details of each code components."
   ]
  },
  {
   "cell_type": "code",
   "execution_count": 212,
   "metadata": {
    "collapsed": false
   },
   "outputs": [],
   "source": [
    "def sigmoid(x):\n",
    "    return 1 / (1 + math.exp(-x))\n",
    "\n",
    "class Perceptron:\n",
    "    def __init__(self, nb_features=None):\n",
    "        self.weights = None\n",
    "        self.nb_features = nb_features # i.e. the nb of incoming connections from other neurons\n",
    "    \n",
    "    def set_weights(self, weights=None):\n",
    "        if weights:\n",
    "            self.weights = weights\n",
    "        else:\n",
    "            self.weights = np.ones(self.nb_features)\n",
    "    \n",
    "    def predict(self, feature_vectors, squash=False):\n",
    "        scores = []\n",
    "        for fv in feature_vectors:\n",
    "            s = 0.0\n",
    "            for i in range(self.nb_features):\n",
    "                s += self.weights[i] * fv[i]\n",
    "            scores.append(s)\n",
    "        \n",
    "        if squash:\n",
    "            scores = [sigmoid(v) for v in scores]\n",
    "        \n",
    "        return scores"
   ]
  },
  {
   "cell_type": "markdown",
   "metadata": {},
   "source": [
    "We start by predicting house prices in a really naive way, i.e. we assume that all characteristics are equally important, each having a (positive) weight of 1. We characterize each house along 5 integer variables, namely:\n",
    "* the number of doors\n",
    "* surface (in square meters)\n",
    "* the number of bedrooms\n",
    "* the number of bathrooms\n",
    "* its age (in years)\n",
    "\n",
    "First, we initialize our perceptron, and we specify that we will use 5 input features:"
   ]
  },
  {
   "cell_type": "code",
   "execution_count": 213,
   "metadata": {
    "collapsed": true
   },
   "outputs": [],
   "source": [
    "perceptron = Perceptron(nb_features=5)"
   ]
  },
  {
   "cell_type": "markdown",
   "metadata": {},
   "source": [
    "Next, we set the weights of our perceptron; by default, our perceptron will assign an equal, positive weight of 1.0 to each feature:"
   ]
  },
  {
   "cell_type": "code",
   "execution_count": 214,
   "metadata": {
    "collapsed": false
   },
   "outputs": [
    {
     "name": "stdout",
     "output_type": "stream",
     "text": [
      "[ 1.  1.  1.  1.  1.]\n"
     ]
    }
   ],
   "source": [
    "perceptron.set_weights()\n",
    "print(perceptron.weights)"
   ]
  },
  {
   "cell_type": "markdown",
   "metadata": {},
   "source": [
    "Now, we create a dummy data set of 5 houses, which are represented as a fixed length vector of five integers (the index of which corresponds to the bullet list above): "
   ]
  },
  {
   "cell_type": "code",
   "execution_count": 215,
   "metadata": {
    "collapsed": false
   },
   "outputs": [],
   "source": [
    "houses = [[2, 3, 5, 1, 8],\n",
    "          [1, 2, 1, 3, 5],\n",
    "          [4, 4, 2, 1, 3],\n",
    "          [11, 6, 8, 9, 8],\n",
    "          [9, 10, 8, 1, 30]]"
   ]
  },
  {
   "cell_type": "markdown",
   "metadata": {},
   "source": [
    "In this data set, the last houses have higher a number of doors, bathrooms etc., so that they would have to predict higher prices. We now feed this data set to the `predict()` function of our perceptron (cf. standard `sklearn` naming conventions), and we have it predict a the price for each house:"
   ]
  },
  {
   "cell_type": "code",
   "execution_count": 216,
   "metadata": {
    "collapsed": false
   },
   "outputs": [
    {
     "name": "stdout",
     "output_type": "stream",
     "text": [
      "[19.0, 12.0, 14.0, 42.0, 58.0]\n"
     ]
    }
   ],
   "source": [
    "prices = perceptron.predict(houses)\n",
    "print(prices)"
   ]
  },
  {
   "cell_type": "markdown",
   "metadata": {},
   "source": [
    "Indeed, the see that for instance the pentultimate house has a relatively higher price. Of course, our feature weighting is now ridiculously naive. Clearly,\n",
    "* the number of bathrooms should matter relative more than the number of doors\n",
    "* the age of a house should negatively affect the total price\n",
    "\n",
    "We can now fix this by setting a more sensible weight vector, which should have five entries (one for each feature). Using these new weights, we should now obtain a more accurate estimate:"
   ]
  },
  {
   "cell_type": "code",
   "execution_count": 217,
   "metadata": {
    "collapsed": false
   },
   "outputs": [
    {
     "name": "stdout",
     "output_type": "stream",
     "text": [
      "[4.6, 3.3, 6.6, 21.4, 5.799999999999997]\n"
     ]
    }
   ],
   "source": [
    "weights = [0.5, # doors\n",
    "           0.9, # surface\n",
    "           0.8, # bedrooms\n",
    "           0.9, # bathrooms\n",
    "           -0.5] # age\n",
    "perceptron.set_weights(weights)\n",
    "print(perceptron.predict(houses))"
   ]
  },
  {
   "cell_type": "markdown",
   "metadata": {},
   "source": [
    "Predicting the price of a house is simple enough and comes down to calculating the **weighted sum** of the feature values. We now see, for instance, that the final house will be valued much less than the pentultimate house in the list, based on the assumption that, while is it much larger, it is also is much older and will therefore require much more investments. Note that the prices predicted are not in an actual currency and vary wildly. In many applications, it is very common to **normalize** the predictions of a perceptron and 'squash' them to a range between 0 and 1. Historically, the **sigmoid** function has often been for this. By setting `squash = True`, we can implement this behaviour in our perceptron:"
   ]
  },
  {
   "cell_type": "code",
   "execution_count": 218,
   "metadata": {
    "collapsed": false
   },
   "outputs": [
    {
     "name": "stdout",
     "output_type": "stream",
     "text": [
      "[0.9900481981330957, 0.9644288107273639, 0.9986414800495711, 0.9999999994917257, 0.9969815836752917]\n"
     ]
    }
   ],
   "source": [
    "print(perceptron.predict(houses, squash=True))"
   ]
  },
  {
   "cell_type": "markdown",
   "metadata": {},
   "source": [
    "We now see that we obtain predictions which are neatly between 0 and 1. In the context of deep learning, functions such as the sigmoid function are often called **activation** functions, because they control how strongly a particular neuron will be activated. In our perceptron, we have a single output neuron, the activation of which is controlled via a sigmoid activation. We call such an activation **element-wise**, is they are applied to each element in a list individually."
   ]
  },
  {
   "cell_type": "markdown",
   "metadata": {},
   "source": [
    "## Speeding up our perceptron"
   ]
  },
  {
   "cell_type": "markdown",
   "metadata": {},
   "source": [
    "The perceptron which we created will be slow, because, right now, it only relies on traditional, unoptimized Python code. Inspect for instance the code block in the `predict()` function above."
   ]
  },
  {
   "cell_type": "markdown",
   "metadata": {},
   "source": [
    "The many `for`-loops in this code will make it extremely slow to run. In Deep Learning (and in so many other fields), such code will be too slow to be usable in practice: it is much more common to used **vectorized routines** from specialized libraries, such as `numpy`, which can easily replace our naive `for`-loops. To be able to vectorize our code more efficiently, we will have to convert our Python lists to `numpy` arrays, which essentially are matrix objects, that have a **`shape`** attribute. As will become clear below, the `shape` is an extremely important property of `numpy` arrays, and you will want to keep track of it frequently, e.g.:"
   ]
  },
  {
   "cell_type": "code",
   "execution_count": 219,
   "metadata": {
    "collapsed": false
   },
   "outputs": [
    {
     "name": "stdout",
     "output_type": "stream",
     "text": [
      "(5, 5)\n",
      "(5,)\n"
     ]
    }
   ],
   "source": [
    "houses = np.array(houses)\n",
    "print(houses.shape)\n",
    "\n",
    "weights = np.array(weights)\n",
    "print(weights.shape)"
   ]
  },
  {
   "cell_type": "markdown",
   "metadata": {},
   "source": [
    "This tells us that our dummy data set is now represented by a two-dimensional matrix which has 5 rows (corresponding to the number of houses) and 5 columns (corresponding to the number of features). Our `weights` variable, on the other hand is a single-dimensional vector, instead of a matrix, of consisting of five numbers (scalars). We are now ready to redefine our Perceptron blueprint to be able to deal with such arrays more efficiently:"
   ]
  },
  {
   "cell_type": "code",
   "execution_count": 221,
   "metadata": {
    "collapsed": true
   },
   "outputs": [],
   "source": [
    "def v_sigmoid(x):\n",
    "    # element-wise; eats any tensor\n",
    "    return 1 / (1 + np.exp(-x))\n",
    "\n",
    "class VectorizedPerceptron:\n",
    "    def __init__(self, nb_features=None):\n",
    "        self.weights = None\n",
    "        self.nb_features = nb_features\n",
    "    \n",
    "    def set_weights(self, weights=None):\n",
    "        if isinstance(weights, np.ndarray):\n",
    "            self.weights = weights\n",
    "        else:\n",
    "            self.weights = np.ones(self.nb_features)\n",
    "    \n",
    "    def predict(self, feature_vectors, squash=False):\n",
    "        scores = np.multiply(feature_vectors, self.weights).sum(axis=-1)\n",
    "        \n",
    "        if squash:\n",
    "            scores = v_sigmoid(scores)\n",
    "        \n",
    "        return scores"
   ]
  },
  {
   "cell_type": "markdown",
   "metadata": {},
   "source": [
    "In fact, once you get used to such vectorized notation, vectorized code becomes much easier to read than stacks of for-loops. The result is the same:"
   ]
  },
  {
   "cell_type": "code",
   "execution_count": 222,
   "metadata": {
    "collapsed": false
   },
   "outputs": [
    {
     "name": "stdout",
     "output_type": "stream",
     "text": [
      "[4.6, 3.3, 6.6, 21.4, 5.799999999999997]\n",
      "[0.9900481981330957, 0.9644288107273639, 0.9986414800495711, 0.9999999994917257, 0.9969815836752917]\n"
     ]
    }
   ],
   "source": [
    "v_perceptron = VectorizedPerceptron()\n",
    "v_perceptron.set_weights(weights)\n",
    "\n",
    "print(perceptron.predict(houses))\n",
    "print(perceptron.predict(houses, squash=True))"
   ]
  },
  {
   "cell_type": "markdown",
   "metadata": {},
   "source": [
    "But is this faster? Let us create an artificial, large house data set to check this:"
   ]
  },
  {
   "cell_type": "code",
   "execution_count": 223,
   "metadata": {
    "collapsed": false
   },
   "outputs": [
    {
     "name": "stdout",
     "output_type": "stream",
     "text": [
      "(1000, 500)\n"
     ]
    }
   ],
   "source": [
    "houses = np.random.uniform(low=-0.05, high=0.05, size=(1000, 500))\n",
    "print(houses.shape)"
   ]
  },
  {
   "cell_type": "code",
   "execution_count": 224,
   "metadata": {
    "collapsed": false
   },
   "outputs": [],
   "source": [
    "# simple:\n",
    "weights = list(np.random.uniform(low=-0.05, high=0.05, size=(500)))\n",
    "perceptron = Perceptron(nb_features=500)\n",
    "perceptron.set_weights(weights)\n",
    "\n",
    "# vectorized:\n",
    "v_perceptron = VectorizedPerceptron(nb_features=500)\n",
    "v_perceptron.set_weights(np.array(weights))"
   ]
  },
  {
   "cell_type": "markdown",
   "metadata": {},
   "source": [
    "Now, we can time the difference:"
   ]
  },
  {
   "cell_type": "code",
   "execution_count": 225,
   "metadata": {
    "collapsed": false
   },
   "outputs": [
    {
     "name": "stdout",
     "output_type": "stream",
     "text": [
      "10 loops, best of 3: 121 ms per loop\n"
     ]
    }
   ],
   "source": [
    "%timeit perceptron.predict(houses, squash=True)"
   ]
  },
  {
   "cell_type": "code",
   "execution_count": 226,
   "metadata": {
    "collapsed": false
   },
   "outputs": [
    {
     "name": "stdout",
     "output_type": "stream",
     "text": [
      "The slowest run took 4.13 times longer than the fastest. This could mean that an intermediate result is being cached.\n",
      "1000 loops, best of 3: 655 µs per loop\n"
     ]
    }
   ],
   "source": [
    "%timeit v_perceptron.predict(houses, squash=True)"
   ]
  },
  {
   "cell_type": "markdown",
   "metadata": {},
   "source": [
    "Jip, it seems to be quite a bit faster -- and believe me, the difference grows even larger for larger data sets. "
   ]
  },
  {
   "cell_type": "markdown",
   "metadata": {},
   "source": [
    "## Optimizing the perceptron"
   ]
  },
  {
   "cell_type": "markdown",
   "metadata": {},
   "source": [
    "Let us implement a pre-historic approach to optimizating our perceptron. We first load the Boston Housing Prices Dataset that ships with `sklearn`:"
   ]
  },
  {
   "cell_type": "code",
   "execution_count": 227,
   "metadata": {
    "collapsed": false
   },
   "outputs": [],
   "source": [
    "from sklearn.datasets import load_boston\n",
    "boston = load_boston()\n",
    "X = boston.data\n",
    "y = boston.target"
   ]
  },
  {
   "cell_type": "markdown",
   "metadata": {},
   "source": [
    "As you can see, this data set has information for 506 houses across 13 numerical features. The tagret vector which we like to fit is a list of 506 prices associated with each house:"
   ]
  },
  {
   "cell_type": "code",
   "execution_count": 228,
   "metadata": {
    "collapsed": false
   },
   "outputs": [
    {
     "name": "stdout",
     "output_type": "stream",
     "text": [
      "(506, 13)\n",
      "(506,)\n",
      "[ 24.   21.6  34.7  33.4  36.2  28.7  22.9  27.1  16.5  18.9]\n"
     ]
    }
   ],
   "source": [
    "print(X.shape)\n",
    "print(y.shape)\n",
    "print(y[:10])"
   ]
  },
  {
   "cell_type": "markdown",
   "metadata": {},
   "source": [
    "We start again with a stripped down version of our `Perceptron` class: upon instantiation, objects from this class will create a list of weight parameters, or really small values randomly sampled from a uniform distribution betwee: -0.05 and +0.05:"
   ]
  },
  {
   "cell_type": "code",
   "execution_count": 229,
   "metadata": {
    "collapsed": true
   },
   "outputs": [],
   "source": [
    "class Perceptron:\n",
    "    def __init__(self, nb_features=None):\n",
    "        np.random.seed(156651)\n",
    "        self.weights = np.random.uniform(low=-.05, high=0.05,\n",
    "                                         size=nb_features)\n",
    "    \n",
    "    def predict(self, feature_vectors):\n",
    "        return np.multiply(feature_vectors, self.weights).sum(axis=-1)\n"
   ]
  },
  {
   "cell_type": "markdown",
   "metadata": {},
   "source": [
    "Additionally, our `Perceptron` has a `predict` method, which we can use to obtain house prices:"
   ]
  },
  {
   "cell_type": "code",
   "execution_count": 230,
   "metadata": {
    "collapsed": false
   },
   "outputs": [
    {
     "name": "stdout",
     "output_type": "stream",
     "text": [
      "(506,)\n"
     ]
    }
   ],
   "source": [
    "perceptron = Perceptron()\n",
    "prices = perceptron.predict(X)\n",
    "print(prices.shape)"
   ]
  },
  {
   "cell_type": "markdown",
   "metadata": {},
   "source": [
    "To be able to measure the current quality of our system, we need a **loss function** or **objective function**: later, we will try to get down the loss returned by the function. As a loss function, we start off with the relatively **mean squared error**: it compares the proces outputted by the system and the **gold standard** (in the `y` vector) and returns the mean of squares with respect to the difference between each predicted price and its gold standard equivalent:"
   ]
  },
  {
   "cell_type": "code",
   "execution_count": 231,
   "metadata": {
    "collapsed": true
   },
   "outputs": [],
   "source": [
    "def mean_squared_error(y_gold, y_pred):\n",
    "    return np.mean((y_gold - y_pred) ** 2)"
   ]
  },
  {
   "cell_type": "markdown",
   "metadata": {},
   "source": [
    "Let us find out how large the loss for our current model, which has randomly initialized parameters:"
   ]
  },
  {
   "cell_type": "code",
   "execution_count": 232,
   "metadata": {
    "collapsed": false
   },
   "outputs": [
    {
     "name": "stdout",
     "output_type": "stream",
     "text": [
      "4690.98160344\n"
     ]
    }
   ],
   "source": [
    "preds = perceptron.predict(X)\n",
    "print(mean_squared_error(preds, y))"
   ]
  },
  {
   "cell_type": "markdown",
   "metadata": {},
   "source": [
    "We are now ready to add a naive `fit` method to optimize the parameters of our perceptron. In each **epoch**, we loop over each parameter individually and test two different situations: *hypothesis a*, in which we slightly increase (with a small rate `learning_rate`) and *hypothesis b*, in which we slightly decrease the weight under scrutiny (again with a small `learning` rate). Then, we adjust the parameters in the light of whichever hypothesis gave the best result (i.e. minimized the loss). That goes like this:"
   ]
  },
  {
   "cell_type": "code",
   "execution_count": 233,
   "metadata": {
    "collapsed": true
   },
   "outputs": [],
   "source": [
    "class Perceptron:\n",
    "    def __init__(self, nb_features=None):\n",
    "        self.nb_features = nb_features\n",
    "        np.random.seed(156651)\n",
    "        self.weights = np.array(np.random.uniform(low=-.05, high=0.5,\n",
    "                                         size=self.nb_features))\n",
    "    \n",
    "    def predict(self, feature_vectors, weights=None):\n",
    "        if not isinstance(weights, np.ndarray):\n",
    "            return np.multiply(feature_vectors, self.weights).sum(axis=-1)\n",
    "        else:\n",
    "            return np.multiply(feature_vectors, weights).sum(axis=-1)\n",
    "    \n",
    "    def fit(self, X, y, learning_rate=0.1, nb_epochs=10):\n",
    "        losses = []\n",
    "        \n",
    "        for e in range(nb_epochs):\n",
    "            for idx in range(self.nb_features):\n",
    "                # hypothesis a: we increase the parameter:\n",
    "                weights_plus = self.weights.copy()\n",
    "                weights_plus[idx] += learning_rate\n",
    "\n",
    "                # hypothesis b: we increase the parameter:\n",
    "                weights_minus = self.weights.copy()\n",
    "                weights_minus[idx] -= learning_rate\n",
    "                \n",
    "                # we obtain the predictions for both hypotheses a and b:\n",
    "                plus_preds = self.predict(X, weights = weights_plus)\n",
    "                minus_preds = self.predict(X, weights = weights_minus)\n",
    "                \n",
    "                # we obtain the predictions for both hypotheses a and b:\n",
    "                plus_loss = mean_squared_error(plus_preds, y)\n",
    "                minus_loss = mean_squared_error(minus_preds, y)\n",
    "                \n",
    "                # we adjust \n",
    "                if plus_loss < minus_loss:\n",
    "                    self.weights = weights_plus.copy()\n",
    "                elif minus_loss < plus_loss:\n",
    "                    self.weights = weights_minus.copy()\n",
    "            \n",
    "            # we calculate the loss\n",
    "            loss = mean_squared_error(self.predict(X), y)\n",
    "            losses.append(loss)\n",
    "            \n",
    "            if e and e % 20 == 0:\n",
    "                print('Loss after epoch #', e + 1, '->', loss)\n",
    "        \n",
    "        return losses"
   ]
  },
  {
   "cell_type": "markdown",
   "metadata": {},
   "source": [
    "If we now apply this fit method with a small enough learning rate, you see that we are able to gradually push down the loss in the subsequent epoch, until the loss curve staurates and stabilizes:"
   ]
  },
  {
   "cell_type": "code",
   "execution_count": 234,
   "metadata": {
    "collapsed": false
   },
   "outputs": [
    {
     "name": "stdout",
     "output_type": "stream",
     "text": [
      "Loss after epoch # 21 -> 12810.0791954\n",
      "Loss after epoch # 41 -> 9000.99965635\n",
      "Loss after epoch # 61 -> 5880.86619575\n",
      "Loss after epoch # 81 -> 3449.67881358\n",
      "Loss after epoch # 101 -> 1707.43750983\n",
      "Loss after epoch # 121 -> 654.142284513\n",
      "Loss after epoch # 141 -> 274.257370925\n",
      "Loss after epoch # 161 -> 157.425433412\n",
      "Loss after epoch # 181 -> 104.348689457\n",
      "Loss after epoch # 201 -> 82.9200785025\n",
      "Loss after epoch # 221 -> 77.8373069622\n",
      "Loss after epoch # 241 -> 73.1682273692\n",
      "Loss after epoch # 261 -> 69.6496014858\n",
      "Loss after epoch # 281 -> 67.0950429085\n",
      "Loss after epoch # 301 -> 63.9221167168\n",
      "Loss after epoch # 321 -> 61.674244613\n",
      "Loss after epoch # 341 -> 59.9468207307\n",
      "Loss after epoch # 361 -> 58.2859434511\n",
      "Loss after epoch # 381 -> 57.1467567254\n",
      "Loss after epoch # 401 -> 56.3005257484\n",
      "Loss after epoch # 421 -> 55.4604880857\n",
      "Loss after epoch # 441 -> 54.6421266065\n",
      "Loss after epoch # 461 -> 53.8346909256\n",
      "Loss after epoch # 481 -> 53.1350872074\n"
     ]
    }
   ],
   "source": [
    "p = Perceptron(nb_features=X.shape[1])\n",
    "p.predict(X)\n",
    "losses = p.fit(X, y, nb_epochs=500, learning_rate=0.001)"
   ]
  },
  {
   "cell_type": "markdown",
   "metadata": {},
   "source": [
    "A graphical representation of the loss curve is easy enough to obtain:"
   ]
  },
  {
   "cell_type": "code",
   "execution_count": 235,
   "metadata": {
    "collapsed": false
   },
   "outputs": [
    {
     "data": {
      "text/plain": [
       "[<matplotlib.lines.Line2D at 0x1183cc210>]"
      ]
     },
     "execution_count": 235,
     "metadata": {},
     "output_type": "execute_result"
    },
    {
     "data": {
      "image/png": "[encoded data removed]",
      "text/plain": [
       "<matplotlib.figure.Figure at 0x118082cd0>"
      ]
     },
     "metadata": {},
     "output_type": "display_data"
    }
   ],
   "source": [
    "plt.plot(losses)"
   ]
  },
  {
   "cell_type": "markdown",
   "metadata": {},
   "source": [
    "## Do It Yourself:\n",
    "\n",
    "Add some simple modifications to the code above. Note that these exercices in fact introduce some key concepts that are very central in modern deep learning research.\n",
    "\n",
    "* Adapt our Perceptron to show an adaptive, **decreasing learning rate**: after a number of epochs (e.g. 100), it would make sense to decrease the learning steps taken, for instance by a factor of three.\n",
    "* Implement a form of **early stopping**: stop the training procedure, if the loss doesn't significantly go down anymore for a number of epochs."
   ]
  },
  {
   "cell_type": "markdown",
   "metadata": {},
   "source": [
    "## A Perceptron in Theano"
   ]
  },
  {
   "cell_type": "markdown",
   "metadata": {
    "collapsed": true
   },
   "source": [
    "Our previous optimization method worked, but was ugly and slow. In this part of the tutorial, we turn to antoher optimization technique that is the main workhorse behind modern representation learning (i.e. gradient descent). We implement the same perceptron as above in **theano**, which is one of the most popular Deep Learning toolkits currently available. We import theano and initialize our random seed:"
   ]
  },
  {
   "cell_type": "code",
   "execution_count": 236,
   "metadata": {
    "collapsed": false
   },
   "outputs": [],
   "source": [
    "import theano\n",
    "import theano.tensor as T # do you know what a tensor is?\n",
    "rng = np.random\n",
    "rng.seed(156651)"
   ]
  },
  {
   "cell_type": "markdown",
   "metadata": {},
   "source": [
    "We begin by instantiating the input matrix which we will use (our X matrix of house features) and the output vector which we could like our model to return, i.e. the list of prices for each house. Both consist of floats, hence the `f` at the beginning of `fmatrix` and `fvector`:"
   ]
  },
  {
   "cell_type": "code",
   "execution_count": 237,
   "metadata": {
    "collapsed": true
   },
   "outputs": [],
   "source": [
    "train_input = T.fmatrix('train_input')\n",
    "train_target = T.fvector('train_output')"
   ]
  },
  {
   "cell_type": "markdown",
   "metadata": {},
   "source": [
    "What is important is that at this point, both `train_input` and `train_target` are purely **symbolic variables** that don't have an actual value yet. These variables are mere placeholders for when we will actually start using the model. Below, we instantiate our weight metrix containing our parameters. This is not a symbolic variable: it will alreayd have actual values in it, because we initialize it randomly:"
   ]
  },
  {
   "cell_type": "code",
   "execution_count": 238,
   "metadata": {
    "collapsed": false
   },
   "outputs": [
    {
     "name": "stdout",
     "output_type": "stream",
     "text": [
      "[-0.04963301  0.04475696 -0.02963052 -0.01821073 -0.04093222  0.0021752\n",
      "  0.03168588 -0.0228706   0.04216252 -0.00994067 -0.01141965 -0.02260192\n",
      " -0.01913692]\n",
      "(13,)\n"
     ]
    }
   ],
   "source": [
    "weights = np.asarray(rng.uniform(low=-0.05, high=0.05,\n",
    "                                 size=(X.shape[1])),\n",
    "                     dtype='float32')\n",
    "print(weights)\n",
    "print(weights.shape)\n",
    "\n",
    "W = theano.shared(value=weights, name='W', borrow=True)"
   ]
  },
  {
   "cell_type": "markdown",
   "metadata": {
    "collapsed": true
   },
   "source": [
    "We make use of a theano variable which can 'shared' and 'borrowed', because every component of our code and system will need access to these numbers during the optimization. We make use of 'float32' floating point numbers, because currently those are they only ones -- apart from integers, of course -- which are fully supported on the GPU architectures on which neural networks are typically trained. We are now ready to define the graph which will represent our model. In our case of a plain regression model, the prediction is simple enough:"
   ]
  },
  {
   "cell_type": "code",
   "execution_count": 239,
   "metadata": {
    "collapsed": true
   },
   "outputs": [],
   "source": [
    "prediction = (train_input * W).sum(axis=1)"
   ]
  },
  {
   "cell_type": "markdown",
   "metadata": {},
   "source": [
    "At this point, `prediction` is a mere symbolic variable or a node in the model **graph** we are constructing: to turn into an actual function which we use, we need to **compile** it. In `theano`, we can do that as follows, by specifying both the input and output that this function will need:"
   ]
  },
  {
   "cell_type": "code",
   "execution_count": 240,
   "metadata": {
    "collapsed": false
   },
   "outputs": [],
   "source": [
    "predict = theano.function([train_input], prediction)"
   ]
  },
  {
   "cell_type": "markdown",
   "metadata": {},
   "source": [
    "Did you notice that compiling the graph takes a short while? That is because, under the hood, `theano` will try to optimize a function quite heavily, so that it will be fast to use afterwards. We can now already apply this function:"
   ]
  },
  {
   "cell_type": "code",
   "execution_count": 241,
   "metadata": {
    "collapsed": false
   },
   "outputs": [
    {
     "name": "stdout",
     "output_type": "stream",
     "text": [
      "(506,)\n"
     ]
    }
   ],
   "source": [
    "X = np.array(X, dtype='float32')\n",
    "predictions = predict(X)\n",
    "print(predictions.shape)"
   ]
  },
  {
   "cell_type": "markdown",
   "metadata": {},
   "source": [
    "As you can see, we obtain the output vector: its shape already fits our expectations (i.e. a price for each house), but its values will still be worhtless, because our weights are randomly initialized. To find out how well we are currently doing, we need define a function which we can use to measure the cost for a certain state of the model (as we did above), by comparing the current output of the model to the ideal target values which we would have liked to obtain. The cost or objective which we use is, again, the mean squared error. In `theano`, calculating this cost runs largely parallel to the code for `numpy`:"
   ]
  },
  {
   "cell_type": "code",
   "execution_count": 242,
   "metadata": {
    "collapsed": false
   },
   "outputs": [],
   "source": [
    "silver_predictions = T.fvector('silver')\n",
    "gold_predictions = T.fvector('gold')\n",
    "y = np.array(y, dtype='float32')\n",
    "\n",
    "cost = T.mean((silver_predictions - gold_predictions) ** 2)"
   ]
  },
  {
   "cell_type": "markdown",
   "metadata": {},
   "source": [
    "The symbolic `cost` variable too can be compiled into an actual function:"
   ]
  },
  {
   "cell_type": "code",
   "execution_count": 243,
   "metadata": {
    "collapsed": false
   },
   "outputs": [],
   "source": [
    "mse = theano.function([silver_predictions, gold_predictions], cost)"
   ]
  },
  {
   "cell_type": "markdown",
   "metadata": {},
   "source": [
    "When we apply the `mse` function, we see that our cost is huge at this point:"
   ]
  },
  {
   "cell_type": "code",
   "execution_count": 244,
   "metadata": {
    "collapsed": false
   },
   "outputs": [
    {
     "name": "stdout",
     "output_type": "stream",
     "text": [
      "1146.99194336\n"
     ]
    }
   ],
   "source": [
    "print(mse(predictions, y))"
   ]
  },
  {
   "cell_type": "markdown",
   "metadata": {},
   "source": [
    "Let us check whether the output of our theano function is the same as our numpy implementation:"
   ]
  },
  {
   "cell_type": "code",
   "execution_count": 245,
   "metadata": {
    "collapsed": true
   },
   "outputs": [],
   "source": [
    "def mean_squared_error(y_gold, y_pred):\n",
    "    return ((y_gold - y_pred) ** 2).mean()"
   ]
  },
  {
   "cell_type": "code",
   "execution_count": 246,
   "metadata": {
    "collapsed": false
   },
   "outputs": [
    {
     "data": {
      "text/plain": [
       "1146.9921"
      ]
     },
     "execution_count": 246,
     "metadata": {},
     "output_type": "execute_result"
    }
   ],
   "source": [
    "mean_squared_error(predictions, y)"
   ]
  },
  {
   "cell_type": "markdown",
   "metadata": {},
   "source": [
    "We are now ready to let the magic happen: in the following block we define a variable that will contain the gradients of our parameters, with respect to the cost function which we defined:"
   ]
  },
  {
   "cell_type": "code",
   "execution_count": 247,
   "metadata": {
    "collapsed": false
   },
   "outputs": [],
   "source": [
    "symbolic_cost = T.mean((prediction - train_target) ** 2)\n",
    "gradients = T.grad(symbolic_cost, W)"
   ]
  },
  {
   "cell_type": "markdown",
   "metadata": {},
   "source": [
    "Amazingly, we can now check out the current gradients of each of the 13 parameters in our system:"
   ]
  },
  {
   "cell_type": "code",
   "execution_count": 248,
   "metadata": {
    "collapsed": false
   },
   "outputs": [
    {
     "name": "stdout",
     "output_type": "stream",
     "text": [
      "[ -1.80837784e+02  -8.57805847e+02  -6.75006226e+02  -5.32577467e+00\n",
      "  -3.53757362e+01  -4.18336609e+02  -4.28877832e+03  -2.55309296e+02\n",
      "  -5.72623352e+02  -2.54460781e+04  -1.18703381e+03  -2.40647793e+04\n",
      "  -7.33394226e+02]\n"
     ]
    }
   ],
   "source": [
    "get_grads = theano.function([train_input, train_target], gradients)\n",
    "print(get_grads(X, y))"
   ]
  },
  {
   "cell_type": "markdown",
   "metadata": {},
   "source": [
    "Using these gradients, we don't need to check both hypothesis a and b anymore for the parameters. Moreover, we can make use of the strength of the gradients, allowing for a more flexible update rule. We are now ready to start the optimization process. First, we need to specify a `learning_rate` factor and the number of **epochs** we would to use:"
   ]
  },
  {
   "cell_type": "code",
   "execution_count": 249,
   "metadata": {
    "collapsed": true
   },
   "outputs": [],
   "source": [
    "learning_rate = np.float32(0.0000001)\n",
    "nb_epoch = 500"
   ]
  },
  {
   "cell_type": "markdown",
   "metadata": {},
   "source": [
    "In 'official' theano, the training function would be something like the following:"
   ]
  },
  {
   "cell_type": "code",
   "execution_count": 250,
   "metadata": {
    "collapsed": false
   },
   "outputs": [],
   "source": [
    "updates = [(W, W - np.float32(learning_rate) * gradients)]\n",
    "\n",
    "train_model = theano.function(\n",
    "        inputs=[train_input, train_target],\n",
    "        outputs=symbolic_cost,\n",
    "        updates=updates,\n",
    ")"
   ]
  },
  {
   "cell_type": "markdown",
   "metadata": {},
   "source": [
    "As you can see, we first need to specify an update rule, which will reflect our update mechanism. Then, we compile a function, that takes our `X` and `y` as inputs (`[train_input, train_target]`) and returns the cost (the result of `symbolic`) as a result. Additionally, each time we call this function, our `updates` will be carried out, i.e. the parameters will be adjusted in the light of the respective gradients. We are now ready to launch the model for a number of epochs, and keep track of the -- hopefully decreasing! -- loss in a list:"
   ]
  },
  {
   "cell_type": "code",
   "execution_count": 251,
   "metadata": {
    "collapsed": false
   },
   "outputs": [
    {
     "name": "stdout",
     "output_type": "stream",
     "text": [
      "-> current loss: 1146.99194336\n",
      "-> current loss: 1026.00390625\n",
      "-> current loss: 919.606018066\n",
      "-> current loss: 826.029541016\n",
      "-> current loss: 743.720031738\n",
      "-> current loss: 671.311889648\n",
      "-> current loss: 607.604858398\n",
      "-> current loss: 551.544433594\n",
      "-> current loss: 502.203826904\n",
      "-> current loss: 458.768859863\n",
      "-> current loss: 420.523895264\n",
      "-> current loss: 386.840270996\n",
      "-> current loss: 357.165405273\n",
      "-> current loss: 331.013793945\n",
      "-> current loss: 307.958892822\n",
      "-> current loss: 287.625732422\n",
      "-> current loss: 269.684967041\n",
      "-> current loss: 253.847076416\n",
      "-> current loss: 239.857681274\n",
      "-> current loss: 227.493286133\n",
      "-> current loss: 216.557449341\n",
      "-> current loss: 206.877593994\n",
      "-> current loss: 198.302017212\n",
      "-> current loss: 190.697433472\n",
      "-> current loss: 183.946746826\n",
      "-> current loss: 177.947006226\n",
      "-> current loss: 172.607788086\n",
      "-> current loss: 167.849578857\n",
      "-> current loss: 163.602554321\n",
      "-> current loss: 159.80531311\n",
      "-> current loss: 156.403930664\n",
      "-> current loss: 153.350982666\n",
      "-> current loss: 150.604797363\n",
      "-> current loss: 148.128799438\n",
      "-> current loss: 145.890777588\n",
      "-> current loss: 143.862442017\n",
      "-> current loss: 142.018981934\n",
      "-> current loss: 140.338500977\n",
      "-> current loss: 138.801818848\n",
      "-> current loss: 137.392044067\n",
      "-> current loss: 136.094345093\n",
      "-> current loss: 134.895690918\n",
      "-> current loss: 133.784606934\n",
      "-> current loss: 132.750991821\n",
      "-> current loss: 131.786010742\n",
      "-> current loss: 130.881835938\n",
      "-> current loss: 130.031661987\n",
      "-> current loss: 129.229446411\n",
      "-> current loss: 128.46987915\n",
      "-> current loss: 127.748291016\n",
      "-> current loss: 127.060585022\n",
      "-> current loss: 126.403167725\n",
      "-> current loss: 125.772850037\n",
      "-> current loss: 125.1668396\n",
      "-> current loss: 124.582672119\n",
      "-> current loss: 124.018180847\n",
      "-> current loss: 123.471458435\n",
      "-> current loss: 122.940826416\n",
      "-> current loss: 122.424797058\n",
      "-> current loss: 121.922073364\n",
      "-> current loss: 121.431503296\n",
      "-> current loss: 120.952041626\n",
      "-> current loss: 120.482826233\n",
      "-> current loss: 120.023033142\n",
      "-> current loss: 119.571990967\n",
      "-> current loss: 119.129058838\n",
      "-> current loss: 118.693702698\n",
      "-> current loss: 118.265411377\n",
      "-> current loss: 117.843772888\n",
      "-> current loss: 117.428405762\n",
      "-> current loss: 117.018959045\n",
      "-> current loss: 116.615135193\n",
      "-> current loss: 116.216659546\n",
      "-> current loss: 115.823287964\n",
      "-> current loss: 115.434814453\n",
      "-> current loss: 115.05103302\n",
      "-> current loss: 114.671783447\n",
      "-> current loss: 114.296897888\n",
      "-> current loss: 113.926246643\n",
      "-> current loss: 113.559692383\n",
      "-> current loss: 113.197113037\n",
      "-> current loss: 112.838424683\n",
      "-> current loss: 112.483505249\n",
      "-> current loss: 112.132286072\n",
      "-> current loss: 111.784683228\n",
      "-> current loss: 111.440620422\n",
      "-> current loss: 111.100028992\n",
      "-> current loss: 110.762840271\n",
      "-> current loss: 110.428993225\n",
      "-> current loss: 110.098442078\n",
      "-> current loss: 109.771125793\n",
      "-> current loss: 109.447006226\n",
      "-> current loss: 109.126029968\n",
      "-> current loss: 108.808151245\n",
      "-> current loss: 108.493339539\n",
      "-> current loss: 108.181541443\n",
      "-> current loss: 107.87272644\n",
      "-> current loss: 107.566856384\n",
      "-> current loss: 107.263885498\n",
      "-> current loss: 106.963798523\n",
      "-> current loss: 106.666549683\n",
      "-> current loss: 106.372116089\n",
      "-> current loss: 106.080459595\n",
      "-> current loss: 105.791549683\n",
      "-> current loss: 105.505363464\n",
      "-> current loss: 105.221870422\n",
      "-> current loss: 104.941040039\n",
      "-> current loss: 104.662849426\n",
      "-> current loss: 104.387275696\n",
      "-> current loss: 104.114280701\n",
      "-> current loss: 103.843833923\n",
      "-> current loss: 103.575927734\n",
      "-> current loss: 103.310531616\n",
      "-> current loss: 103.047607422\n",
      "-> current loss: 102.787155151\n",
      "-> current loss: 102.529136658\n",
      "-> current loss: 102.273521423\n",
      "-> current loss: 102.020301819\n",
      "-> current loss: 101.769447327\n",
      "-> current loss: 101.520927429\n",
      "-> current loss: 101.274734497\n",
      "-> current loss: 101.030838013\n",
      "-> current loss: 100.789222717\n",
      "-> current loss: 100.549865723\n",
      "-> current loss: 100.312728882\n",
      "-> current loss: 100.077819824\n",
      "-> current loss: 99.8450927734\n",
      "-> current loss: 99.6145324707\n",
      "-> current loss: 99.3861312866\n",
      "-> current loss: 99.159866333\n",
      "-> current loss: 98.9356918335\n",
      "-> current loss: 98.7136154175\n",
      "-> current loss: 98.4936141968\n",
      "-> current loss: 98.2756576538\n",
      "-> current loss: 98.0597381592\n",
      "-> current loss: 97.8458251953\n",
      "-> current loss: 97.6339111328\n",
      "-> current loss: 97.4239730835\n",
      "-> current loss: 97.2159881592\n",
      "-> current loss: 97.0099411011\n",
      "-> current loss: 96.8058166504\n",
      "-> current loss: 96.6035842896\n",
      "-> current loss: 96.4032516479\n",
      "-> current loss: 96.2047805786\n",
      "-> current loss: 96.0081558228\n",
      "-> current loss: 95.8133544922\n",
      "-> current loss: 95.6203765869\n",
      "-> current loss: 95.4291915894\n",
      "-> current loss: 95.2397918701\n",
      "-> current loss: 95.052154541\n",
      "-> current loss: 94.8662643433\n",
      "-> current loss: 94.6821060181\n",
      "-> current loss: 94.4996566772\n",
      "-> current loss: 94.3189163208\n",
      "-> current loss: 94.1398544312\n",
      "-> current loss: 93.9624557495\n",
      "-> current loss: 93.7867126465\n",
      "-> current loss: 93.6126022339\n",
      "-> current loss: 93.4401168823\n",
      "-> current loss: 93.2692337036\n",
      "-> current loss: 93.0999450684\n",
      "-> current loss: 92.9322280884\n",
      "-> current loss: 92.7660751343\n",
      "-> current loss: 92.6014633179\n",
      "-> current loss: 92.4383773804\n",
      "-> current loss: 92.2768173218\n",
      "-> current loss: 92.1167602539\n",
      "-> current loss: 91.9581985474\n",
      "-> current loss: 91.8010940552\n",
      "-> current loss: 91.6454620361\n",
      "-> current loss: 91.4912872314\n",
      "-> current loss: 91.3385314941\n",
      "-> current loss: 91.1872024536\n",
      "-> current loss: 91.0372772217\n",
      "-> current loss: 90.8887481689\n",
      "-> current loss: 90.7416000366\n",
      "-> current loss: 90.5958251953\n",
      "-> current loss: 90.4513931274\n",
      "-> current loss: 90.3083190918\n",
      "-> current loss: 90.1665649414\n",
      "-> current loss: 90.0261306763\n",
      "-> current loss: 89.8870010376\n",
      "-> current loss: 89.749168396\n",
      "-> current loss: 89.6126098633\n",
      "-> current loss: 89.4773178101\n",
      "-> current loss: 89.3432922363\n",
      "-> current loss: 89.2105102539\n",
      "-> current loss: 89.078956604\n",
      "-> current loss: 88.9486312866\n",
      "-> current loss: 88.8195114136\n",
      "-> current loss: 88.6915893555\n",
      "-> current loss: 88.5648651123\n",
      "-> current loss: 88.4393081665\n",
      "-> current loss: 88.3149185181\n",
      "-> current loss: 88.1916809082\n",
      "-> current loss: 88.0696029663\n",
      "-> current loss: 87.9486465454\n",
      "-> current loss: 87.8288116455\n",
      "-> current loss: 87.7100906372\n",
      "-> current loss: 87.5924758911\n",
      "-> current loss: 87.4759521484\n",
      "-> current loss: 87.3605041504\n",
      "-> current loss: 87.246131897\n",
      "-> current loss: 87.1328201294\n",
      "-> current loss: 87.0205612183\n",
      "-> current loss: 86.9093399048\n",
      "-> current loss: 86.7991485596\n",
      "-> current loss: 86.6899871826\n",
      "-> current loss: 86.5818328857\n",
      "-> current loss: 86.4746780396\n",
      "-> current loss: 86.368522644\n",
      "-> current loss: 86.2633590698\n",
      "-> current loss: 86.1591491699\n",
      "-> current loss: 86.0559234619\n",
      "-> current loss: 85.9536514282\n",
      "-> current loss: 85.8523178101\n",
      "-> current loss: 85.7519378662\n",
      "-> current loss: 85.6524734497\n",
      "-> current loss: 85.5539398193\n",
      "-> current loss: 85.4563217163\n",
      "-> current loss: 85.3595962524\n",
      "-> current loss: 85.2637786865\n",
      "-> current loss: 85.1688461304\n",
      "-> current loss: 85.0747909546\n",
      "-> current loss: 84.9816131592\n",
      "-> current loss: 84.889289856\n",
      "-> current loss: 84.7978210449\n",
      "-> current loss: 84.7071990967\n",
      "-> current loss: 84.6174163818\n",
      "-> current loss: 84.5284729004\n",
      "-> current loss: 84.4403457642\n",
      "-> current loss: 84.3530349731\n",
      "-> current loss: 84.2665252686\n",
      "-> current loss: 84.1808319092\n",
      "-> current loss: 84.095916748\n",
      "-> current loss: 84.0117950439\n",
      "-> current loss: 83.9284439087\n",
      "-> current loss: 83.8458633423\n",
      "-> current loss: 83.7640609741\n",
      "-> current loss: 83.6829986572\n",
      "-> current loss: 83.6026916504\n",
      "-> current loss: 83.5231323242\n",
      "-> current loss: 83.4442977905\n",
      "-> current loss: 83.3661956787\n",
      "-> current loss: 83.2888259888\n",
      "-> current loss: 83.2121582031\n",
      "-> current loss: 83.1361999512\n",
      "-> current loss: 83.0609512329\n",
      "-> current loss: 82.9863815308\n",
      "-> current loss: 82.9125137329\n",
      "-> current loss: 82.8393249512\n",
      "-> current loss: 82.7668151855\n",
      "-> current loss: 82.6949615479\n",
      "-> current loss: 82.6237869263\n",
      "-> current loss: 82.5532608032\n",
      "-> current loss: 82.4833831787\n",
      "-> current loss: 82.4141616821\n",
      "-> current loss: 82.3455734253\n",
      "-> current loss: 82.2776107788\n",
      "-> current loss: 82.2102813721\n",
      "-> current loss: 82.1435775757\n",
      "-> current loss: 82.0774765015\n",
      "-> current loss: 82.0119857788\n",
      "-> current loss: 81.9471130371\n",
      "-> current loss: 81.8828277588\n",
      "-> current loss: 81.8191299438\n",
      "-> current loss: 81.7560272217\n",
      "-> current loss: 81.6935043335\n",
      "-> current loss: 81.6315536499\n",
      "-> current loss: 81.5701828003\n",
      "-> current loss: 81.5093612671\n",
      "-> current loss: 81.4491119385\n",
      "-> current loss: 81.3894119263\n",
      "-> current loss: 81.3302612305\n",
      "-> current loss: 81.2716598511\n",
      "-> current loss: 81.2135925293\n",
      "-> current loss: 81.1560668945\n",
      "-> current loss: 81.0990600586\n",
      "-> current loss: 81.0425796509\n",
      "-> current loss: 80.986618042\n",
      "-> current loss: 80.9311752319\n",
      "-> current loss: 80.8762435913\n",
      "-> current loss: 80.8218078613\n",
      "-> current loss: 80.7678756714\n",
      "-> current loss: 80.7144470215\n",
      "-> current loss: 80.6614990234\n",
      "-> current loss: 80.6090393066\n",
      "-> current loss: 80.5570678711\n",
      "-> current loss: 80.505569458\n",
      "-> current loss: 80.454536438\n",
      "-> current loss: 80.4039764404\n",
      "-> current loss: 80.3538818359\n",
      "-> current loss: 80.3042373657\n",
      "-> current loss: 80.255065918\n",
      "-> current loss: 80.2063293457\n",
      "-> current loss: 80.1580505371\n",
      "-> current loss: 80.110206604\n",
      "-> current loss: 80.0628051758\n",
      "-> current loss: 80.015838623\n",
      "-> current loss: 79.9692993164\n",
      "-> current loss: 79.9231872559\n",
      "-> current loss: 79.8775024414\n",
      "-> current loss: 79.8322296143\n",
      "-> current loss: 79.7873687744\n",
      "-> current loss: 79.7429275513\n",
      "-> current loss: 79.6988830566\n",
      "-> current loss: 79.6552429199\n",
      "-> current loss: 79.6120071411\n",
      "-> current loss: 79.5691680908\n",
      "-> current loss: 79.5267181396\n",
      "-> current loss: 79.4846496582\n",
      "-> current loss: 79.4429702759\n",
      "-> current loss: 79.4016723633\n",
      "-> current loss: 79.3607559204\n",
      "-> current loss: 79.3202133179\n",
      "-> current loss: 79.2800292969\n",
      "-> current loss: 79.2402191162\n",
      "-> current loss: 79.2007751465\n",
      "-> current loss: 79.1616821289\n",
      "-> current loss: 79.1229553223\n",
      "-> current loss: 79.0845794678\n",
      "-> current loss: 79.0465545654\n",
      "-> current loss: 79.0088653564\n",
      "-> current loss: 78.9715270996\n",
      "-> current loss: 78.9345245361\n",
      "-> current loss: 78.8978652954\n",
      "-> current loss: 78.8615341187\n",
      "-> current loss: 78.8255386353\n",
      "-> current loss: 78.7898635864\n",
      "-> current loss: 78.754524231\n",
      "-> current loss: 78.7194976807\n",
      "-> current loss: 78.6847991943\n",
      "-> current loss: 78.6504058838\n",
      "-> current loss: 78.6163253784\n",
      "-> current loss: 78.5825576782\n",
      "-> current loss: 78.5490951538\n",
      "-> current loss: 78.5159378052\n",
      "-> current loss: 78.4830780029\n",
      "-> current loss: 78.4505233765\n",
      "-> current loss: 78.4182510376\n",
      "-> current loss: 78.3862838745\n",
      "-> current loss: 78.3546066284\n",
      "-> current loss: 78.3232116699\n",
      "-> current loss: 78.2921066284\n",
      "-> current loss: 78.2612762451\n",
      "-> current loss: 78.2307281494\n",
      "-> current loss: 78.2004547119\n",
      "-> current loss: 78.1704559326\n",
      "-> current loss: 78.1407241821\n",
      "-> current loss: 78.1112747192\n",
      "-> current loss: 78.0820770264\n",
      "-> current loss: 78.0531539917\n",
      "-> current loss: 78.0244903564\n",
      "-> current loss: 77.9960784912\n",
      "-> current loss: 77.9679260254\n",
      "-> current loss: 77.940032959\n",
      "-> current loss: 77.9123840332\n",
      "-> current loss: 77.8849868774\n",
      "-> current loss: 77.8578414917\n",
      "-> current loss: 77.8309326172\n",
      "-> current loss: 77.8042678833\n",
      "-> current loss: 77.77784729\n",
      "-> current loss: 77.7516708374\n",
      "-> current loss: 77.7257232666\n",
      "-> current loss: 77.6999969482\n",
      "-> current loss: 77.6745147705\n",
      "-> current loss: 77.6492614746\n",
      "-> current loss: 77.6242370605\n",
      "-> current loss: 77.5994415283\n",
      "-> current loss: 77.5748519897\n",
      "-> current loss: 77.5504989624\n",
      "-> current loss: 77.5263519287\n",
      "-> current loss: 77.5024337769\n",
      "-> current loss: 77.4787216187\n",
      "-> current loss: 77.4552307129\n",
      "-> current loss: 77.4319381714\n",
      "-> current loss: 77.4088668823\n",
      "-> current loss: 77.3859939575\n",
      "-> current loss: 77.3633270264\n",
      "-> current loss: 77.3408660889\n",
      "-> current loss: 77.3185958862\n",
      "-> current loss: 77.2965316772\n",
      "-> current loss: 77.2746734619\n",
      "-> current loss: 77.2530059814\n",
      "-> current loss: 77.2315216064\n",
      "-> current loss: 77.2102355957\n",
      "-> current loss: 77.1891403198\n",
      "-> current loss: 77.1682281494\n",
      "-> current loss: 77.1475067139\n",
      "-> current loss: 77.1269683838\n",
      "-> current loss: 77.1066131592\n",
      "-> current loss: 77.08644104\n",
      "-> current loss: 77.066444397\n",
      "-> current loss: 77.0466384888\n",
      "-> current loss: 77.0269851685\n",
      "-> current loss: 77.0075302124\n",
      "-> current loss: 76.9882278442\n",
      "-> current loss: 76.9691162109\n",
      "-> current loss: 76.9501571655\n",
      "-> current loss: 76.9313812256\n",
      "-> current loss: 76.9127578735\n",
      "-> current loss: 76.8943099976\n",
      "-> current loss: 76.8760147095\n",
      "-> current loss: 76.8578872681\n",
      "-> current loss: 76.8399200439\n",
      "-> current loss: 76.8221130371\n",
      "-> current loss: 76.8044662476\n",
      "-> current loss: 76.7869644165\n",
      "-> current loss: 76.7696228027\n",
      "-> current loss: 76.7524337769\n",
      "-> current loss: 76.7354049683\n",
      "-> current loss: 76.7185211182\n",
      "-> current loss: 76.7017822266\n",
      "-> current loss: 76.6851806641\n",
      "-> current loss: 76.6687393188\n",
      "-> current loss: 76.6524429321\n",
      "-> current loss: 76.6362838745\n",
      "-> current loss: 76.6202697754\n",
      "-> current loss: 76.6043930054\n",
      "-> current loss: 76.5886611938\n",
      "-> current loss: 76.573059082\n",
      "-> current loss: 76.5576019287\n",
      "-> current loss: 76.5422821045\n",
      "-> current loss: 76.52709198\n",
      "-> current loss: 76.5120239258\n",
      "-> current loss: 76.4971084595\n",
      "-> current loss: 76.4823074341\n",
      "-> current loss: 76.4676361084\n",
      "-> current loss: 76.4531021118\n",
      "-> current loss: 76.4386901855\n",
      "-> current loss: 76.4244003296\n",
      "-> current loss: 76.4102401733\n",
      "-> current loss: 76.3962020874\n",
      "-> current loss: 76.3822784424\n",
      "-> current loss: 76.3684844971\n",
      "-> current loss: 76.3548126221\n",
      "-> current loss: 76.341255188\n",
      "-> current loss: 76.3278198242\n",
      "-> current loss: 76.314491272\n",
      "-> current loss: 76.30128479\n",
      "-> current loss: 76.288192749\n",
      "-> current loss: 76.2752151489\n",
      "-> current loss: 76.262336731\n",
      "-> current loss: 76.2495803833\n",
      "-> current loss: 76.2369384766\n",
      "-> current loss: 76.2244033813\n",
      "-> current loss: 76.2119750977\n",
      "-> current loss: 76.1996459961\n",
      "-> current loss: 76.1874313354\n",
      "-> current loss: 76.1753158569\n",
      "-> current loss: 76.1633071899\n",
      "-> current loss: 76.1514053345\n",
      "-> current loss: 76.1395950317\n",
      "-> current loss: 76.1278915405\n",
      "-> current loss: 76.1163024902\n",
      "-> current loss: 76.1047973633\n",
      "-> current loss: 76.0933914185\n",
      "-> current loss: 76.0820846558\n",
      "-> current loss: 76.0708770752\n",
      "-> current loss: 76.0597686768\n",
      "-> current loss: 76.0487442017\n",
      "-> current loss: 76.0378189087\n",
      "-> current loss: 76.0269775391\n",
      "-> current loss: 76.016242981\n",
      "-> current loss: 76.0055999756\n",
      "-> current loss: 75.9950332642\n",
      "-> current loss: 75.9845657349\n",
      "-> current loss: 75.9741821289\n",
      "-> current loss: 75.9638977051\n",
      "-> current loss: 75.9536895752\n",
      "-> current loss: 75.9435653687\n",
      "-> current loss: 75.9335403442\n",
      "-> current loss: 75.9235916138\n",
      "-> current loss: 75.9137115479\n",
      "-> current loss: 75.9039382935\n",
      "-> current loss: 75.894241333\n",
      "-> current loss: 75.8846206665\n",
      "-> current loss: 75.8750762939\n",
      "-> current loss: 75.8656311035\n",
      "-> current loss: 75.8562469482\n",
      "-> current loss: 75.8469467163\n",
      "-> current loss: 75.8377227783\n",
      "-> current loss: 75.8285827637\n",
      "-> current loss: 75.8195114136\n",
      "-> current loss: 75.8105163574\n",
      "-> current loss: 75.8015975952\n",
      "-> current loss: 75.792755127\n",
      "-> current loss: 75.7839813232\n",
      "-> current loss: 75.7752838135\n",
      "-> current loss: 75.7666625977\n",
      "-> current loss: 75.758102417\n",
      "-> current loss: 75.7496185303\n",
      "-> current loss: 75.7412033081\n",
      "-> current loss: 75.7328720093\n",
      "-> current loss: 75.7245941162\n",
      "-> current loss: 75.7163848877\n",
      "-> current loss: 75.7082443237\n",
      "-> current loss: 75.7001724243\n",
      "-> current loss: 75.6921691895\n",
      "-> current loss: 75.6842269897\n"
     ]
    }
   ],
   "source": [
    "losses = []\n",
    "for e in range(nb_epoch):\n",
    "    c = train_model(X, y)\n",
    "    print('-> current loss:', c)\n",
    "    losses.append(c)"
   ]
  },
  {
   "cell_type": "markdown",
   "metadata": {},
   "source": [
    "Yes! The loss is clearly decreasing and saturates rather quickly. We can graphically inspect the **loss curve** as follows:"
   ]
  },
  {
   "cell_type": "code",
   "execution_count": 252,
   "metadata": {
    "collapsed": false
   },
   "outputs": [
    {
     "data": {
      "text/plain": [
       "[<matplotlib.lines.Line2D at 0x118816350>]"
      ]
     },
     "execution_count": 252,
     "metadata": {},
     "output_type": "execute_result"
    },
    {
     "data": {
      "image/png": "[encoded data removed]",
      "text/plain": [
       "<matplotlib.figure.Figure at 0x1178be8d0>"
      ]
     },
     "metadata": {},
     "output_type": "display_data"
    }
   ],
   "source": [
    "plt.plot(losses)"
   ]
  },
  {
   "cell_type": "markdown",
   "metadata": {
    "collapsed": true
   },
   "source": [
    "To make this even more intuitive, we will also implement the update rule ourselves. First, we need to re-initialize our shared variable (to make sure that we start from the same baseline):"
   ]
  },
  {
   "cell_type": "code",
   "execution_count": 253,
   "metadata": {
    "collapsed": true
   },
   "outputs": [],
   "source": [
    "rng.seed(156651)\n",
    "weights = np.asarray(rng.uniform(low=-0.05, high=0.05,\n",
    "                                 size=(X.shape[1])),\n",
    "                     dtype='float32')\n",
    "W.set_value(weights)"
   ]
  },
  {
   "cell_type": "markdown",
   "metadata": {},
   "source": [
    "Now we start looping and each time we update our parameters in the light of their respective gradients using a simple **update rule**:"
   ]
  },
  {
   "cell_type": "code",
   "execution_count": 254,
   "metadata": {
    "collapsed": false
   },
   "outputs": [
    {
     "name": "stdout",
     "output_type": "stream",
     "text": [
      "current loss -> 1146.99194336\n",
      "current loss -> 127.060585022\n",
      "current loss -> 106.666549683\n",
      "current loss -> 94.8662643433\n",
      "current loss -> 87.4759521484\n",
      "current loss -> 82.8393249512\n",
      "current loss -> 79.9231872559\n",
      "current loss -> 78.0820770264\n",
      "current loss -> 76.9127578735\n",
      "current loss -> 76.1633071899\n"
     ]
    }
   ],
   "source": [
    "losses = []\n",
    "for e in range(nb_epoch):\n",
    "    predictions = predict(X)\n",
    "    curr_loss = mse(predictions, y)\n",
    "    if e % 50 == 0:\n",
    "        print('current loss ->', curr_loss)\n",
    "    losses.append(curr_loss)\n",
    "    \n",
    "    # the update mechanism\n",
    "    curr_grads = get_grads(X, y)\n",
    "    curr_weights = W.get_value(borrow=True)\n",
    "    curr_weights = curr_weights - learning_rate * curr_grads # the update rule\n",
    "    W.set_value(curr_weights)"
   ]
  },
  {
   "cell_type": "markdown",
   "metadata": {},
   "source": [
    "As you can see, we obtain a loss curve that looks very similar to our previous one:"
   ]
  },
  {
   "cell_type": "code",
   "execution_count": 255,
   "metadata": {
    "collapsed": false
   },
   "outputs": [
    {
     "data": {
      "text/plain": [
       "[<matplotlib.lines.Line2D at 0x11895c2d0>]"
      ]
     },
     "execution_count": 255,
     "metadata": {},
     "output_type": "execute_result"
    },
    {
     "data": {
      "image/png": "[encoded data removed]",
      "text/plain": [
       "<matplotlib.figure.Figure at 0x1186a6dd0>"
      ]
     },
     "metadata": {},
     "output_type": "display_data"
    }
   ],
   "source": [
    "plt.plot(losses)"
   ]
  },
  {
   "cell_type": "markdown",
   "metadata": {},
   "source": [
    "This should give you an intuition of what it means to do gradient descent and this can be efficiently implemented using a library like Theano."
   ]
  },
  {
   "cell_type": "markdown",
   "metadata": {},
   "source": [
    "### DIY\n",
    "\n",
    "What we implemented above is 'traditional' gradient descent, where we base our gradient updates on loss on the entire dataset at once. In present-day research in representation learning, most data sets are too large too fit in memory, especially if you train networks on GPU which have much more restricted memory capabilities (which sadly compensates their incredible speed). Therefore, scientist nowadays turn to either **stochastic gradient descent** (SGD), where the updates are based on the loss of a smaller sample of the data. Most commonly, people use **minibatch gradient descent**, where each time the loss is calculated for a small random batch of training instances. Common batch sizes range from 30 to 150 (depending on how much data you can fit into memory at once). **Exercise**: implement the SGD training approach with a minibatch size of 25. In each epoch, you should loop over the entire data set in minibatches of 25 training instances from `X` and `y`. Calculate the loss for each batch and update the gradients in the light of the gradients you obtain."
   ]
  },
  {
   "cell_type": "markdown",
   "metadata": {},
   "source": [
    "## A Perceptron in TensorFlow"
   ]
  },
  {
   "cell_type": "markdown",
   "metadata": {},
   "source": [
    "(For the sake of reference, I include a similar implementation of our perceptron in `Tensorflow`, but we probably won't have tim eto work through block by block...)"
   ]
  },
  {
   "cell_type": "code",
   "execution_count": 256,
   "metadata": {
    "collapsed": false
   },
   "outputs": [],
   "source": [
    "import tensorflow as tf\n",
    "import numpy as np"
   ]
  },
  {
   "cell_type": "code",
   "execution_count": 257,
   "metadata": {
    "collapsed": false
   },
   "outputs": [],
   "source": [
    "from sklearn.datasets import load_boston\n",
    "boston = load_boston()\n",
    "X = boston.data\n",
    "y = boston.target\n",
    "\n",
    "X = np.array(X, dtype='float32')\n",
    "y = np.array(y, dtype='float32')"
   ]
  },
  {
   "cell_type": "code",
   "execution_count": 258,
   "metadata": {
    "collapsed": true
   },
   "outputs": [],
   "source": [
    "# purely \"symbolic variable\"\n",
    "train_input = tf.placeholder(tf.float32, [None, X.shape[1]])"
   ]
  },
  {
   "cell_type": "code",
   "execution_count": 259,
   "metadata": {
    "collapsed": true
   },
   "outputs": [],
   "source": [
    "train_output = tf.placeholder(tf.float32, [None])"
   ]
  },
  {
   "cell_type": "code",
   "execution_count": 260,
   "metadata": {
    "collapsed": false
   },
   "outputs": [],
   "source": [
    "rng.seed(156651)\n",
    "weights = tf.Variable(np.asarray(rng.uniform(low=-0.05, high=0.05,\n",
    "                                 size=(X.shape[1])),\n",
    "                     dtype='float32'))"
   ]
  },
  {
   "cell_type": "code",
   "execution_count": 261,
   "metadata": {
    "collapsed": false
   },
   "outputs": [],
   "source": [
    "model_output = tf.reduce_sum(tf.mul(train_input, weights), 1)"
   ]
  },
  {
   "cell_type": "code",
   "execution_count": 262,
   "metadata": {
    "collapsed": false
   },
   "outputs": [],
   "source": [
    "mse_cost = tf.reduce_mean(tf.square(model_output - train_output),\n",
    "                          reduction_indices=0)"
   ]
  },
  {
   "cell_type": "code",
   "execution_count": 263,
   "metadata": {
    "collapsed": true
   },
   "outputs": [],
   "source": [
    "train_step = tf.train.GradientDescentOptimizer(0.0000001).minimize(mse_cost)"
   ]
  },
  {
   "cell_type": "code",
   "execution_count": 264,
   "metadata": {
    "collapsed": true
   },
   "outputs": [],
   "source": [
    "init = tf.initialize_all_variables()"
   ]
  },
  {
   "cell_type": "code",
   "execution_count": 265,
   "metadata": {
    "collapsed": false
   },
   "outputs": [],
   "source": [
    "sess = tf.Session()\n",
    "sess.run(init)"
   ]
  },
  {
   "cell_type": "code",
   "execution_count": 266,
   "metadata": {
    "collapsed": false
   },
   "outputs": [
    {
     "name": "stdout",
     "output_type": "stream",
     "text": [
      "1146.99\n",
      "1146.99\n"
     ]
    }
   ],
   "source": [
    "f = sess.run(model_output, feed_dict={train_input: X})\n",
    "print(mean_squared_error(f, y))\n",
    "g = sess.run(mse_cost, feed_dict={train_input: X, train_output: y})\n",
    "print(g)"
   ]
  },
  {
   "cell_type": "code",
   "execution_count": 267,
   "metadata": {
    "collapsed": false
   },
   "outputs": [
    {
     "name": "stdout",
     "output_type": "stream",
     "text": [
      "1146.99\n",
      "127.061\n",
      "106.667\n",
      "94.8663\n",
      "87.476\n",
      "82.8393\n",
      "79.9232\n",
      "78.0821\n",
      "76.9128\n",
      "76.1633\n"
     ]
    }
   ],
   "source": [
    "losses = []\n",
    "for i in range(500):\n",
    "    c = sess.run(mse_cost, feed_dict={train_input: X, train_output: y})\n",
    "    losses.append(c)\n",
    "    if i % 50 == 0:\n",
    "        print(c)\n",
    "    sess.run(train_step, feed_dict={train_input: X, train_output: y})"
   ]
  },
  {
   "cell_type": "code",
   "execution_count": 268,
   "metadata": {
    "collapsed": false
   },
   "outputs": [
    {
     "data": {
      "text/plain": [
       "[<matplotlib.lines.Line2D at 0x12a1f0650>]"
      ]
     },
     "execution_count": 268,
     "metadata": {},
     "output_type": "execute_result"
    },
    {
     "data": {
      "image/png": "[encoded data removed]",
      "text/plain": [
       "<matplotlib.figure.Figure at 0x129879cd0>"
      ]
     },
     "metadata": {},
     "output_type": "display_data"
    }
   ],
   "source": [
    "plt.plot(losses)"
   ]
  },
  {
   "cell_type": "markdown",
   "metadata": {
    "collapsed": true
   },
   "source": [
    "---------------------------------"
   ]
  }
 ],
 "metadata": {
  "kernelspec": {
   "display_name": "Python 2",
   "language": "python",
   "name": "python2"
  },
  "language_info": {
   "codemirror_mode": {
    "name": "ipython",
    "version": 2
   },
   "file_extension": ".py",
   "mimetype": "text/x-python",
   "name": "python",
   "nbconvert_exporter": "python",
   "pygments_lexer": "ipython2",
   "version": "2.7.11"
  }
 },
 "nbformat": 4,
 "nbformat_minor": 0
}
